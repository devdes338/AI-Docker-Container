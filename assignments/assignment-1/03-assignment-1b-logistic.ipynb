{
 "cells": [
  {
   "cell_type": "code",
   "execution_count": 88,
   "metadata": {},
   "outputs": [],
   "source": [
    "import pandas as pd\n",
    "trainP = pd.read_csv(\"train.csv\",nrows=5000000)\n"
   ]
  },
  {
   "cell_type": "code",
   "execution_count": 89,
   "metadata": {},
   "outputs": [
    {
     "data": {
      "text/plain": [
       "(3500000, 9)"
      ]
     },
     "execution_count": 89,
     "metadata": {},
     "output_type": "execute_result"
    }
   ],
   "source": [
    "y_df = trainP.loc[:,\"click\"]\n",
    "unscaled = trainP.drop(['id','site_id','site_domain','hour','app_id','device_id','device_model','app_domain','device_ip','device_type','device_conn_type','banner_pos','site_category','app_category','click'],axis=1)\n",
    "x_df = (unscaled-unscaled.min())/(unscaled.max()-unscaled.min())\n",
    "\n",
    "split = 0.7*trainP.shape[0] \n",
    "x_trainP = x_df.loc[:split-1, :] \n",
    "x_testP = x_df.loc[split:, :] \n",
    "y_trainP = y_df.loc[:split-1]\n",
    "y_testP = y_df.loc[split:]\n",
    "x_trainP.shape"
   ]
  },
  {
   "cell_type": "code",
   "execution_count": 90,
   "metadata": {},
   "outputs": [],
   "source": [
    "import numpy as np\n",
    "import torch\n",
    "import matplotlib.pyplot as plt"
   ]
  },
  {
   "cell_type": "code",
   "execution_count": 91,
   "metadata": {},
   "outputs": [],
   "source": [
    "def logistic(w, x):\n",
    "  a = torch.sum(w*x)\n",
    "  ea = torch.exp(a)\n",
    "  return (ea/(ea+1))"
   ]
  },
  {
   "cell_type": "code",
   "execution_count": 92,
   "metadata": {},
   "outputs": [],
   "source": [
    "def bin_cross_entropy(weights,size,x,y,mini_batch):\n",
    "    sum = 0\n",
    "    for i in range(size):\n",
    "        y_i = y[mini_batch[i]]\n",
    "        y_hat = logistic(weights,x[mini_batch[i]])\n",
    "        sum += ((y_i * torch.log(y_hat)) + ((1 - y_i)*torch.log(1-y_hat)))\n",
    "    return -1 * sum"
   ]
  },
  {
   "cell_type": "code",
   "execution_count": 93,
   "metadata": {},
   "outputs": [],
   "source": [
    "def partial_derivative(weights,w_index,size,x,y,mini_batch):\n",
    "    sum = 0\n",
    "    for i in range(size):\n",
    "        y_i = y[mini_batch[i]]\n",
    "        y_hat = logistic(weights,x[mini_batch[i]])\n",
    "        sum += (y_hat-y_i) * x[mini_batch[i]][w_index]\n",
    "    return sum\n"
   ]
  },
  {
   "cell_type": "code",
   "execution_count": 94,
   "metadata": {},
   "outputs": [
    {
     "name": "stdout",
     "output_type": "stream",
     "text": [
      "3500000\n"
     ]
    }
   ],
   "source": [
    "x_train = torch.tensor(x_trainP.to_numpy())\n",
    "y_train = torch.tensor(y_trainP.to_numpy())\n",
    "x_test = torch.tensor(x_testP.to_numpy())\n",
    "y_test = torch.tensor(y_testP.to_numpy())\n",
    "\n",
    "#Order\n",
    "M = x_train.size(dim=1)\n",
    "W = torch.rand(M)\n",
    "\n",
    "#Mini-Batch\n",
    "batch_size = 30\n",
    "miniB = torch.randint(x_train.size(dim=0), (batch_size,))\n",
    "print(x_train.size(dim=0))\n",
    "#Learning Rate\n",
    "n = 0.1\n",
    "\n",
    "#Epochs\n",
    "epoch = 100"
   ]
  },
  {
   "cell_type": "code",
   "execution_count": 95,
   "metadata": {},
   "outputs": [],
   "source": [
    "loss = []\n",
    "for i in range(0,epoch):\n",
    "  loss.append(bin_cross_entropy(W,batch_size,x_train,y_train,miniB))\n",
    "  w_temp = torch.zeros(M)\n",
    "  for j in range(0,M):\n",
    "    w_temp[j] = W[j] - (n * partial_derivative(W,j,batch_size,x_train,y_train,miniB))\n",
    "  W = w_temp"
   ]
  },
  {
   "cell_type": "code",
   "execution_count": 96,
   "metadata": {},
   "outputs": [],
   "source": [
    "prob = torch.zeros(x_test.size(dim=0))\n",
    "for i in range(x_test.size(dim=0)):\n",
    "    prob[i] = (logistic(W,x_test[i]))\n",
    "\n",
    "threshold = 0.5\n",
    "predictions = (prob >= threshold).int()\n",
    "\n",
    "TP = ((predictions == 1) & (y_test == 1)).sum().item()\n",
    "FP = ((predictions == 1) & (y_test == 0)).sum().item()\n",
    "FN = ((predictions == 0) & (y_test == 1)).sum().item()\n"
   ]
  },
  {
   "cell_type": "code",
   "execution_count": 97,
   "metadata": {},
   "outputs": [],
   "source": [
    "recall = []\n",
    "precision = []\n",
    "\n",
    "thresholds = torch.linspace(0.0, 1.0, steps = 100)\n",
    "for i in thresholds:\n",
    "    predictions = (prob >= i).int()\n",
    "    \n",
    "    TP = ((predictions == 1) & (y_test == 1)).sum().item()\n",
    "    FP = ((predictions == 1) & (y_test == 0)).sum().item()\n",
    "    FN = ((predictions == 0) & (y_test == 1)).sum().item()\n",
    "    \n",
    "    recall.append(TP/(TP+FN))\n",
    "    if(TP == 0 & FP == 0):\n",
    "        precision.append(0)\n",
    "        continue\n",
    "    precision.append(TP/(TP+FP))"
   ]
  },
  {
   "cell_type": "code",
   "execution_count": 98,
   "metadata": {},
   "outputs": [
    {
     "data": {
      "text/plain": [
       "Text(0, 0.5, 'precision')"
      ]
     },
     "execution_count": 98,
     "metadata": {},
     "output_type": "execute_result"
    },
    {
     "data": {
      "image/png": "[encoded data removed]",
      "text/plain": [
       "<Figure size 640x480 with 1 Axes>"
      ]
     },
     "metadata": {},
     "output_type": "display_data"
    }
   ],
   "source": [
    "plt.scatter(recall,precision, label='recall v precision')\n",
    "plt.xlabel('recall')\n",
    "plt.ylabel('precision')"
   ]
  }
 ],
 "metadata": {
  "kernelspec": {
   "display_name": "Python 3",
   "language": "python",
   "name": "python3"
  },
  "language_info": {
   "codemirror_mode": {
    "name": "ipython",
    "version": 3
   },
   "file_extension": ".py",
   "mimetype": "text/x-python",
   "name": "python",
   "nbconvert_exporter": "python",
   "pygments_lexer": "ipython3",
   "version": "3.10.12"
  }
 },
 "nbformat": 4,
 "nbformat_minor": 2
}

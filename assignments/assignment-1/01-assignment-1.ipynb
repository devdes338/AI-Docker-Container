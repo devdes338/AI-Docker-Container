{
 "cells": [
  {
   "cell_type": "code",
   "execution_count": null,
   "metadata": {},
   "outputs": [],
   "source": [
    "import numpy as np\n",
    "import torch as th\n",
    "meanA = [-0.5, -0.5]\n",
    "covA = [[1, 0.25], [0.25, 1]]\n",
    "samplesA = np.random.multivariate_normal(meanA, covA, 1000)\n",
    "\n",
    "meanB = [0.5, 0.5]\n",
    "covB = [[1, 0.25], [0.25, 1]]\n",
    "samplesB = np.random.multivariate_normal(meanB, covB, 1000)"
   ]
  },
  {
   "cell_type": "code",
   "execution_count": null,
   "metadata": {},
   "outputs": [],
   "source": [
    "import numpy as np\n",
    "\n",
    "tensor = np.concatenate((samplesA,samplesB), axis=0)"
   ]
  },
  {
   "cell_type": "code",
   "execution_count": null,
   "metadata": {},
   "outputs": [],
   "source": [
    "import matplotlib.pyplot as plt\n",
    "\n",
    "plt.figure(figsize=(10, 5))\n",
    "plt.scatter(tensor[:,0],tensor[:,1], [10])\n",
    "plt.title('Scatter plot of two bivariate normal matrices')\n",
    "plt.xlabel('Matrix A')\n",
    "plt.ylabel('Matrix B')\n",
    "plt.grid(True)\n",
    "plt.show()\n",
    "\n",
    "print(\"Tensor Size: \", tensor.shape)"
   ]
  },
  {
   "cell_type": "code",
   "execution_count": null,
   "metadata": {},
   "outputs": [
    {
     "ename": "",
     "evalue": "",
     "output_type": "error",
     "traceback": [
      "\u001b[1;31mRunning cells with 'Python 3.10.12' requires the ipykernel package.\n",
      "\u001b[1;31mRun the following command to install 'ipykernel' into the Python environment. \n",
      "\u001b[1;31mCommand: '/bin/python3 -m pip install ipykernel -U --user --force-reinstall'"
     ]
    }
   ],
   "source": [
    "import torch\n",
    "import random\n",
    "ten = torch.tensor(tensor)\n",
    "centroids = tensor[torch.randperm(ten.size(0))[:2]]\n",
    "for x in range(100):\n",
    "  distances = []\n",
    "  for i in range(ten.size()[0]):\n",
    "    dist = []\n",
    "    dist.append(torch.sqrt((ten[i]-centroids[0]) ** 2).sum(axis=0))\n",
    "    dist.append(torch.sqrt((ten[i]-centroids[1]) ** 2).sum(axis=0))\n",
    "    distances.append(dist)\n",
    "\n",
    "  x, labels = torch.min(torch.tensor(distances), dim=1)\n",
    "  sum0x = 0\n",
    "  sum0y = 0\n",
    "  count0 = 0\n",
    "  sum1x = 0\n",
    "  sum1y = 0\n",
    "  count1 = 0\n",
    "  for i in range(ten.size()[0]):\n",
    "    if labels[i] == 0:\n",
    "      count0+=1\n",
    "      sum0x += ten[i][0]\n",
    "      sum0y += ten[i][1]\n",
    "    if labels[i] == 1:\n",
    "      count1+=1\n",
    "      sum1x += ten[i][0]\n",
    "      sum1y += ten[i][1]\n",
    "  centroids[0][0] = sum0x/count0\n",
    "  centroids[0][1] = sum0y/count0\n",
    "  centroids[1][0] = sum1x/count1\n",
    "  centroids[1][1] = sum1y/count1\n",
    "print(centroids)\n",
    "\n",
    "plt.scatter(tensor[:,0],tensor[:,1], c=labels.numpy())\n",
    "plt.scatter(centroids[:,0],centroids[:,1], marker='+', s=100, color='red')\n",
    "plt.show()"
   ]
  },
  {
   "cell_type": "code",
   "execution_count": null,
   "metadata": {},
   "outputs": [],
   "source": [
    "import torch\n",
    "ten = ten - torch.mean(ten)\n",
    "cov_matrix = sum([torch.reshape(ten[i],(-1,1)) @ torch.reshape(ten[i],(1,-1)) for i in range(2000)]) / 2000\n",
    "_ ,eigvec = torch.linalg.eig(cov_matrix)\n",
    "eigvec = eigvec.real\n",
    "order = torch.argsort(eigvec[0],descending=True)\n",
    "print(eigvec)"
   ]
  }
 ],
 "metadata": {
  "kernelspec": {
   "display_name": "Python 3",
   "language": "python",
   "name": "python3"
  },
  "language_info": {
   "name": "python",
   "version": "3.10.12"
  }
 },
 "nbformat": 4,
 "nbformat_minor": 2
}

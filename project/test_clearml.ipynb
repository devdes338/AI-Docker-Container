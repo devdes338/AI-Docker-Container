{
 "cells": [
  {
   "cell_type": "code",
   "execution_count": 1,
   "metadata": {},
   "outputs": [
    {
     "data": {
      "text/plain": [
       "True"
      ]
     },
     "execution_count": 1,
     "metadata": {},
     "output_type": "execute_result"
    }
   ],
   "source": [
    "from dotenv import load_dotenv\n",
    "\n",
    "load_dotenv()"
   ]
  },
  {
   "cell_type": "code",
   "execution_count": 2,
   "metadata": {},
   "outputs": [
    {
     "name": "stdout",
     "output_type": "stream",
     "text": [
      "ClearML Task: created new task id=02587fd4539e4805aefd03fa775f2525\n",
      "2024-12-05 23:30:32,471 - clearml.Task - INFO - Storing jupyter notebook directly as code\n",
      "ClearML results page: http://localhost:8080/projects/7d8fe7e1a1b248fe900b932fd7c04b67/experiments/02587fd4539e4805aefd03fa775f2525/output/log\n"
     ]
    },
    {
     "name": "stdout",
     "output_type": "stream",
     "text": [
      "ClearML Monitor: Could not detect iteration reporting, falling back to iterations as seconds-from-start\n",
      "Nvidia driver cannot export utilization, pushing fixed value 100\n"
     ]
    }
   ],
   "source": [
    "import os\n",
    "from clearml import Task\n",
    "task = Task.init(project_name=\"my project\",task_name=\"my task\")"
   ]
  }
 ],
 "metadata": {
  "kernelspec": {
   "display_name": "Python 3",
   "language": "python",
   "name": "python3"
  },
  "language_info": {
   "codemirror_mode": {
    "name": "ipython",
    "version": 3
   },
   "file_extension": ".py",
   "mimetype": "text/x-python",
   "name": "python",
   "nbconvert_exporter": "python",
   "pygments_lexer": "ipython3",
   "version": "3.10.12"
  }
 },
 "nbformat": 4,
 "nbformat_minor": 2
}
